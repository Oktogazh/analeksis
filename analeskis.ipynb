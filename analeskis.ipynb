{
 "cells": [
  {
   "cell_type": "markdown",
   "id": "6309ff53",
   "metadata": {},
   "source": [
    "# Loading the tests results\n",
    "To start with, we download the breton test results.\n",
    "1. load the api key and connect to the client\n",
    "2. Find the tests collection and subcollection with a recursive function\n",
    "3. Convert the documents in one big dictionary\n",
    "4. Load the dictionary as a json file"
   ]
  },
  {
   "cell_type": "code",
   "execution_count": null,
   "id": "4cdc1ef4",
   "metadata": {},
   "outputs": [
    {
     "name": "stdout",
     "output_type": "stream",
     "text": [
      "\n",
      "\u001b[1m[\u001b[0m\u001b[34;49mnotice\u001b[0m\u001b[1;39;49m]\u001b[0m\u001b[39;49m A new release of pip is available: \u001b[0m\u001b[31;49m25.0.1\u001b[0m\u001b[39;49m -> \u001b[0m\u001b[32;49m25.2\u001b[0m\n",
      "\u001b[1m[\u001b[0m\u001b[34;49mnotice\u001b[0m\u001b[1;39;49m]\u001b[0m\u001b[39;49m To update, run: \u001b[0m\u001b[32;49mpip install --upgrade pip\u001b[0m\n",
      "Note: you may need to restart the kernel to use updated packages.\n"
     ]
    }
   ],
   "source": [
    "%pip install --quiet firebase-admin google-cloud-firestore"
   ]
  },
  {
   "cell_type": "code",
   "execution_count": 22,
   "id": "99f194b7",
   "metadata": {},
   "outputs": [
    {
     "name": "stderr",
     "output_type": "stream",
     "text": [
      "/var/folders/f2/5mnmp0cs0bv_h2fdx27y8w580000gn/T/ipykernel_23601/618359319.py:97: DeprecationWarning: datetime.datetime.utcnow() is deprecated and scheduled for removal in a future version. Use timezone-aware objects to represent datetimes in UTC: datetime.datetime.now(datetime.UTC).\n",
      "  outfile = f\"all_tests_export_{datetime.utcnow().strftime('%Y%m%dT%H%M%SZ')}.json\"\n"
     ]
    },
    {
     "data": {
      "text/plain": [
       "'all_tests_export_20250907T173355Z.json'"
      ]
     },
     "execution_count": 22,
     "metadata": {},
     "output_type": "execute_result"
    }
   ],
   "source": [
    "import os\n",
    "from typing import Dict, Any, List\n",
    "import firebase_admin  # Import the module directly\n",
    "from firebase_admin import credentials, initialize_app\n",
    "from google.cloud import firestore\n",
    "import json\n",
    "from datetime import datetime\n",
    "\n",
    "# 1) Make sure the env var is set:\n",
    "os.environ[\"GOOGLE_APPLICATION_CREDENTIALS\"] = (\n",
    "    \"/Users/alan/Repos/analeksis/firebase-admin-key.json\"\n",
    ")\n",
    "\n",
    "# 2) Initialize Admin SDK (safe to call once)\n",
    "if not firebase_admin._apps:  # Check if any Firebase apps are initialized\n",
    "    cred = credentials.ApplicationDefault()\n",
    "    initialize_app(cred)\n",
    "\n",
    "# 3) Firestore client\n",
    "db = firestore.Client()  # Uses GOOGLE_APPLICATION_CREDENTIALS\n",
    "\n",
    "\n",
    "def _convert_firestore_types(value):\n",
    "    \"\"\"\n",
    "    Convert Firestore-specific types (Timestamp, DocumentReference, GeoPoint) to JSON-serializable forms.\n",
    "    \"\"\"\n",
    "    from google.cloud.firestore_v1 import DocumentReference\n",
    "    from google.cloud.firestore_v1._helpers import GeoPoint\n",
    "    from google.protobuf.timestamp_pb2 import Timestamp as PbTimestamp\n",
    "\n",
    "    # Firestore Timestamp comes in as 'datetime' when using google-cloud-firestore\n",
    "    import datetime as _dt\n",
    "\n",
    "    if isinstance(value, _dt.datetime):\n",
    "        # ISO 8601 string\n",
    "        return value.isoformat()\n",
    "    if isinstance(value, DocumentReference):\n",
    "        return {\"__type__\": \"DocumentReference\", \"path\": value.path}\n",
    "    if isinstance(value, GeoPoint):\n",
    "        return {\n",
    "            \"__type__\": \"GeoPoint\",\n",
    "            \"latitude\": value.latitude,\n",
    "            \"longitude\": value.longitude,\n",
    "        }\n",
    "    if isinstance(value, (list, tuple)):\n",
    "        return [_convert_firestore_types(v) for v in value]\n",
    "    if isinstance(value, dict):\n",
    "        return {k: _convert_firestore_types(v) for k, v in value.items()}\n",
    "    return value\n",
    "\n",
    "\n",
    "def doc_to_dict(doc_ref: firestore.DocumentReference) -> Dict[str, Any]:\n",
    "    \"\"\"\n",
    "    Return a JSON-serializable dict for a document, including nested subcollections.\n",
    "    Shape:\n",
    "    {\n",
    "        \"id\": \"<doc_id>\",\n",
    "        \"data\": {...},\n",
    "        \"subcollections\": {\n",
    "            \"<subcol_name>\": [ {doc...}, ... ],\n",
    "            ...\n",
    "        }\n",
    "    }\n",
    "    \"\"\"\n",
    "    snap = doc_ref.get()\n",
    "    data = snap.to_dict() or {}\n",
    "    data = _convert_firestore_types(data)\n",
    "\n",
    "    # Recurse into subcollections\n",
    "    sub_map: Dict[str, List[Dict[str, Any]]] = {}\n",
    "    for subcol in doc_ref.collections():\n",
    "        docs_list = []\n",
    "        for subdoc in subcol.stream():\n",
    "            docs_list.append(doc_to_dict(subdoc.reference))\n",
    "        sub_map[subcol.id] = docs_list\n",
    "\n",
    "    return {\"id\": doc_ref.id, \"data\": data, \"subcollections\": sub_map}\n",
    "\n",
    "\n",
    "# --- Export only \"tests\" collection ---\n",
    "def export_tests_collection(limit=None):\n",
    "    export = []\n",
    "    col = db.collection(\"tests\")\n",
    "    count = 0\n",
    "    for doc in col.stream():\n",
    "        export.append(doc_to_dict(doc.reference))\n",
    "        count += 1\n",
    "        if limit and count >= limit:\n",
    "            break\n",
    "    return export\n",
    "\n",
    "\n",
    "# ---- Run the export ----\n",
    "export_dict = export_tests_collection()  # pass limit=NN for quick tests\n",
    "\n",
    "# Write to a timestamped JSON file\n",
    "outfile = f\"all_tests_export_{datetime.utcnow().strftime('%Y%m%dT%H%M%SZ')}.json\"\n",
    "with open(outfile, \"w\", encoding=\"utf-8\") as f:\n",
    "    json.dump(export_dict, f, ensure_ascii=False, indent=2)\n",
    "\n",
    "outfile"
   ]
  },
  {
   "cell_type": "code",
   "execution_count": null,
   "id": "52575e63",
   "metadata": {},
   "outputs": [],
   "source": []
  }
 ],
 "metadata": {
  "kernelspec": {
   "display_name": "base",
   "language": "python",
   "name": "python3"
  },
  "language_info": {
   "codemirror_mode": {
    "name": "ipython",
    "version": 3
   },
   "file_extension": ".py",
   "mimetype": "text/x-python",
   "name": "python",
   "nbconvert_exporter": "python",
   "pygments_lexer": "ipython3",
   "version": "3.12.8"
  }
 },
 "nbformat": 4,
 "nbformat_minor": 5
}
